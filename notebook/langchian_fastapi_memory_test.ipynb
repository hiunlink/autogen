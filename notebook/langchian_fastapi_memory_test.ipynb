{
 "cells": [
  {
   "cell_type": "markdown",
   "metadata": {},
   "source": [
    "# 向量数据库记忆测试\n",
    "LangChain本地服务器模拟虚拟男友聊天接口，使用向量数据库做聊天信息保存和检索，本notebook将测试虚拟男友的记忆能力。\n",
    "\n",
    "测试分3个部分，1）`MemoryMaker`将捏造`UserProxyAgent`提供的玩家基本信息字段。2）`MemoryMaker`生成的记忆将由`MemoryInjector`调用虚拟男友接口注入记忆。3）`MemoryTester`将根据`UserProxyAgent`的提供的基本信息字段询问虚拟男友接口，并测试是否符合`MemoryMaker`生成的记忆输出表格。\n",
    "## 环境配置\n",
    "\n"
   ]
  },
  {
   "cell_type": "code",
   "execution_count": null,
   "metadata": {},
   "outputs": [],
   "source": [
    "import autogen\n",
    "\n",
    "config_list = autogen.config_list_from_json(\n",
    "    \"OAI_CONFIG_LIST\",\n",
    "    file_location=\"../\",\n",
    "    filter_dict={\n",
    "        \"model\": [\"gpt-3.5-turbo\", \"gpt-35-turbo\", \"gpt-35-turbo-0613\", \"gpt-4\", \"gpt4\", \"gpt-4-32k\"],\n",
    "    },\n",
    ")\n",
    "\n",
    "print(\"LLM models: \", [config_list[i][\"model\"] for i in range(len(config_list))])"
   ]
  },
  {
   "cell_type": "markdown",
   "metadata": {},
   "source": [
    "## 捏造记忆\n",
    "`MemoryMaker`将捏造`UserProxyAgent`提供的玩家基本信息字段。"
   ]
  },
  {
   "cell_type": "code",
   "execution_count": null,
   "metadata": {},
   "outputs": [],
   "source": [
    "import autogen\n",
    "import requests\n",
    "\n",
    "llm_config = {\n",
    "    \"timeout\": 60,\n",
    "    \"seed\": 60,\n",
    "    \"config_list\": config_list,\n",
    "    \"temperature\": 0.5,\n",
    "}\n",
    "\n",
    "user_proxy = autogen.UserProxyAgent(\n",
    "    name=\"UserProxy\",\n",
    "    system_message=\"出题者\",\n",
    "    code_execution_config={\"last_n_messages\": 2, \"work_dir\": \"memory_test\"},\n",
    "    human_input_mode=\"NEVER\"\n",
    ")\n",
    "\n",
    "memory_maker = autogen.AssistantAgent(\n",
    "    name=\"MemoryMaker\",\n",
    "    system_message=\"当完成任务后就不处理信息\",\n",
    "    llm_config=llm_config\n",
    ")\n",
    "\n",
    "# 记忆注入\n",
    "conversation_id=\"sds11180005_1\"\n",
    "system_args=\"10_10_10_10_10_10_10_10_10\"\n",
    "chat_endpoint=\"http://localhost:8000/game/chat\"\n",
    "# 创建调用虚拟男友接口的Agent\n",
    "class MemoryInjector(autogen.AssistantAgent):\n",
    "    def __init__(self, conversation_id:str, system_args:str, endpoint:str, **kwargs):\n",
    "        super().__init__(**kwargs)\n",
    "        self._reply_func_list = []\n",
    "        self.register_reply(autogen.Agent, reply_func=MemoryInjector.redirect_chat_endpoint, config={\"conversation_id\":conversation_id, \"system_args\": system_args, \"chat_endpoint\": endpoint})\n",
    "\n",
    "    def redirect_chat_endpoint(self, messages=None, sender=None, config=None):\n",
    "        conversation_id=config[\"conversation_id\"]\n",
    "        system_args=config[\"system_args\"]\n",
    "        headers={\n",
    "            \"characterInfo\":conversation_id,\n",
    "            \"systemPromptArgs\":system_args\n",
    "        }\n",
    "        endpoint=config[\"chat_endpoint\"]\n",
    "        if messages is None:\n",
    "            messages = self._oai_messages[sender]\n",
    "\n",
    "        user_question = messages[-1][\"content\"]\n",
    "        response = requests.post(endpoint, headers=headers, json={'Chat':user_question, 'Type':0})\n",
    "        # print(\"虚拟男友接口有回复：\"+response.text)\n",
    "        return True, response.text\n",
    "\n",
    "virtual_character = autogen.AssistantAgent(\n",
    "    name=\"VirtualCharacter\",\n",
    "    system_message=\"接受UserProxy结果{makeup}，扮演虚拟人物和MemoryInjector对话，需要在10论对话内将makup的信息表达给MemoryInjector,当makeup信息都表达完后结束对话，记住你是扮演角色\",\n",
    "    llm_config=llm_config,\n",
    ")\n",
    "\n",
    "memory_injector = MemoryInjector(\n",
    "    name=\"MemoryInjector\",\n",
    "    system_message=\"接受VirtualCharacter的消息\",\n",
    "    conversation_id=conversation_id,\n",
    "    system_args=system_args,\n",
    "    endpoint=chat_endpoint\n",
    ")\n",
    "\n",
    "# messages = user_proxy.chat_messages\n",
    "# print(messages)\n",
    "# questioner.initiate_chat(\n",
    "#     memory_injector, \n",
    "#     message=messages\n",
    "# )\n",
    "\n",
    "# define group chat\n",
    "groupchat = autogen.GroupChat(agents=[user_proxy, memory_maker, virtual_character, memory_injector], messages=[], max_round=30)\n",
    "manager = autogen.GroupChatManager(groupchat=groupchat, llm_config=llm_config)\n",
    "\n",
    "user_proxy.initiate_chat(\n",
    "    manager, \n",
    "    message='问题发给MemoryMaker捏造一个虚构人物的以下信息：职业，参与产业，任职公司名，专业技能，工作内容。并输出以下元素格式的json数组：{\"topic\":填入上面需要捏造信息的类型, \"memory\":填入捏造的内容}，最后答案放在makeup:[]内'\n",
    ")"
   ]
  },
  {
   "cell_type": "markdown",
   "metadata": {},
   "source": [
    "## 记忆注入\n",
    "`MemoryMaker`生成的记忆将由`MemoryInjector`调用虚拟男友接口注入记忆。"
   ]
  },
  {
   "cell_type": "code",
   "execution_count": null,
   "metadata": {},
   "outputs": [],
   "source": [
    "\n",
    "\n",
    "\n"
   ]
  }
 ],
 "metadata": {
  "kernelspec": {
   "display_name": ".venv",
   "language": "python",
   "name": "python3"
  },
  "language_info": {
   "codemirror_mode": {
    "name": "ipython",
    "version": 3
   },
   "file_extension": ".py",
   "mimetype": "text/x-python",
   "name": "python",
   "nbconvert_exporter": "python",
   "pygments_lexer": "ipython3",
   "version": "3.11.6"
  }
 },
 "nbformat": 4,
 "nbformat_minor": 2
}
